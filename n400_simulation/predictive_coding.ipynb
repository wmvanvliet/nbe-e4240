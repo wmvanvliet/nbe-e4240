{
 "cells": [
  {
   "cell_type": "code",
   "execution_count": null,
   "id": "f92bceea-ca24-420e-aef0-3c9651cde376",
   "metadata": {},
   "outputs": [],
   "source": [
    "%matplotlib inline\n",
    "%run run_simulation\n",
    "plt.ioff()"
   ]
  },
  {
   "cell_type": "code",
   "execution_count": null,
   "id": "73f2ba10-7aed-4cb1-b78f-6928d48aa96a",
   "metadata": {},
   "outputs": [],
   "source": [
    "anim = run_model(word=\"more\", plot=\"prederr\")\n",
    "HTML(anim.to_jshtml())"
   ]
  },
  {
   "cell_type": "code",
   "execution_count": null,
   "id": "3f76f0d9-dc03-4ae3-bff2-8170e6a11ba9",
   "metadata": {},
   "outputs": [],
   "source": [
    "run_model_batch(words=pseudowords, plot=\"prederr\")"
   ]
  }
 ],
 "metadata": {
  "kernelspec": {
   "display_name": "Python 3 (ipykernel)",
   "language": "python",
   "name": "python3"
  },
  "language_info": {
   "codemirror_mode": {
    "name": "ipython",
    "version": 3
   },
   "file_extension": ".py",
   "mimetype": "text/x-python",
   "name": "python",
   "nbconvert_exporter": "python",
   "pygments_lexer": "ipython3",
   "version": "3.11.11"
  }
 },
 "nbformat": 4,
 "nbformat_minor": 5
}
